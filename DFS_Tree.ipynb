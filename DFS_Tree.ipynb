{
 "cells": [
  {
   "cell_type": "markdown",
   "metadata": {},
   "source": [
    "# Depth First Search or DFS\n",
    "-Inorder Traversal\n",
    "\n",
    "-Preorder Traversal\n",
    "\n",
    "-Postorder Traversal"
   ]
  },
  {
   "cell_type": "markdown",
   "metadata": {},
   "source": [
    "## Inorder Traversal\n",
    "Inorder traversal visits the node in the order: Left -> Root -> Right\n",
    "\n",
    "### Algorithm for Inorder Traversal:\n",
    "\n",
    "Inorder(tree)\n",
    "\n",
    "-Traverse the left subtree, i.e., call Inorder(left->subtree)\n",
    "\n",
    "-Visit the root.\n",
    "\n",
    "-Traverse the right subtree, i.e., call Inorder(right->subtree)"
   ]
  },
  {
   "cell_type": "code",
   "execution_count": 1,
   "metadata": {},
   "outputs": [],
   "source": [
    "class Node:\n",
    "    def __init__(self,data):\n",
    "        self.data = data\n",
    "        self.left = None\n",
    "        self.right = None\n",
    "\n",
    "def inorderTraversal(root):\n",
    "    \n",
    "    # Base case: if null\n",
    "    if root is None:\n",
    "        return\n",
    "    \n",
    "    \n",
    "    # Recur on the left subtree\n",
    "    inorderTraversal(root.left)\n",
    "    \n",
    "    # Visit the current node\n",
    "    print(root.data, end=\" \")\n",
    "    \n",
    "    # Recur on the right subtree\n",
    "    inorderTraversal(root.right)"
   ]
  },
  {
   "cell_type": "code",
   "execution_count": 2,
   "metadata": {},
   "outputs": [
    {
     "name": "stdout",
     "output_type": "stream",
     "text": [
      "4 2 5 1 3 "
     ]
    }
   ],
   "source": [
    "root = Node(1)\n",
    "root.left = Node(2)\n",
    "root.right = Node(3)\n",
    "root.left.left = Node(4)\n",
    "root.left.right = Node(5)\n",
    "inorderTraversal(root)"
   ]
  },
  {
   "cell_type": "markdown",
   "metadata": {},
   "source": [
    "## Preorder Traversal:\n",
    "\n",
    "Preorder traversal visits the node in the order: Root -> Left -> Right\n",
    "\n",
    "### Algorithm for Preorder Traversal:\n",
    "\n",
    "Preorder(tree)\n",
    "\n",
    "-Visit the root.\n",
    "\n",
    "-Traverse the left subtree, i.e., call Preorder(left->subtree)\n",
    "\n",
    "-Traverse the right subtree, i.e., call Preorder(right->subtree)"
   ]
  },
  {
   "cell_type": "code",
   "execution_count": 3,
   "metadata": {},
   "outputs": [],
   "source": [
    "class Node:\n",
    "    def __init__(self, data):\n",
    "        self.data = data\n",
    "        self.right = None\n",
    "        self.left = None\n",
    "\n",
    "def preorderTraversal(root:Node):\n",
    "    \n",
    "    #Base Case\n",
    "    if root is None:\n",
    "        return\n",
    "    \n",
    "    #Visit the cuurent node\n",
    "    print(root.data, end = ' ')\n",
    "    \n",
    "    #Recur on the left subtree\n",
    "    preorderTraversal(root.left)\n",
    "    \n",
    "    #Recur on the right subtree\n",
    "    preorderTraversal(root.right)"
   ]
  },
  {
   "cell_type": "code",
   "execution_count": 4,
   "metadata": {},
   "outputs": [
    {
     "name": "stdout",
     "output_type": "stream",
     "text": [
      "1 2 4 5 3 "
     ]
    }
   ],
   "source": [
    "root = Node(1)\n",
    "root.left = Node(2)\n",
    "root.right = Node(3)\n",
    "root.left.left = Node(4)\n",
    "root.left.right = Node(5)\n",
    "preorderTraversal(root)"
   ]
  },
  {
   "cell_type": "markdown",
   "metadata": {},
   "source": [
    "## Postorder Traversal:\n",
    "Postorder traversal visits the node in the order: Left -> Right -> Root\n",
    "\n",
    "### Algorithm for Postorder Traversal:\n",
    "\n",
    "Algorithm Postorder(tree)\n",
    "\n",
    "-Traverse the left subtree, i.e., call Postorder(left->subtree)\n",
    "\n",
    "-Traverse the right subtree, i.e., call Postorder(right->subtree)\n",
    "\n",
    "-Visit the root"
   ]
  },
  {
   "cell_type": "code",
   "execution_count": null,
   "metadata": {},
   "outputs": [],
   "source": [
    "class Node:\n",
    "    def __init__(self, data):\n",
    "        self.data = data\n",
    "        self.right = None\n",
    "        self.left = None\n",
    "        \n",
    "def postorderTraversal(root:Node):\n",
    "    \n",
    "    #Base Case\n",
    "    if root is None:\n",
    "        return\n",
    "    \n",
    "    #Recur on the left subtree\n",
    "    postorderTraversal(root.left)\n",
    "    \n",
    "    #Recur on the right subtree\n",
    "    postorderTraversal(root.right)\n",
    "    \n",
    "    # Visit the current node\n",
    "    print(root.data, end=\" \")"
   ]
  },
  {
   "cell_type": "code",
   "execution_count": null,
   "metadata": {},
   "outputs": [],
   "source": [
    "root = Node(1)\n",
    "root.left = Node(2)\n",
    "root.right = Node(3)\n",
    "root.left.left = Node(4)\n",
    "root.left.right = Node(5)\n",
    "postorderTraversal(root)"
   ]
  }
 ],
 "metadata": {
  "kernelspec": {
   "display_name": "Python 3",
   "language": "python",
   "name": "python3"
  },
  "language_info": {
   "codemirror_mode": {
    "name": "ipython",
    "version": 3
   },
   "file_extension": ".py",
   "mimetype": "text/x-python",
   "name": "python",
   "nbconvert_exporter": "python",
   "pygments_lexer": "ipython3",
   "version": "3.11.0rc1"
  }
 },
 "nbformat": 4,
 "nbformat_minor": 2
}
