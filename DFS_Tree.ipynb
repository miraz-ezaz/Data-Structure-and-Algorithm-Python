{
 "cells": [
  {
   "cell_type": "markdown",
   "metadata": {},
   "source": [
    "# Depth First Search or DFS\n",
    "-Inorder Traversal\n",
    "\n",
    "-Preorder Traversal\n",
    "\n",
    "-Postorder Traversal"
   ]
  },
  {
   "cell_type": "markdown",
   "metadata": {},
   "source": [
    "## Inorder Traversal\n",
    "Inorder traversal visits the node in the order: Left -> Root -> Right\n",
    "\n",
    "### Algorithm for Inorder Traversal:\n",
    "\n",
    "Inorder(tree)\n",
    "\n",
    "-Traverse the left subtree, i.e., call Inorder(left->subtree)\n",
    "\n",
    "-Visit the root.\n",
    "\n",
    "-Traverse the right subtree, i.e., call Inorder(right->subtree)"
   ]
  },
  {
   "cell_type": "code",
   "execution_count": 1,
   "metadata": {},
   "outputs": [],
   "source": [
    "class Node:\n",
    "    def __init__(self,data):\n",
    "        self.data = data\n",
    "        self.left = None\n",
    "        self.right = None\n",
    "\n",
    "def inorderTraversal(root):\n",
    "    \n",
    "    # Base case: if null\n",
    "    if root is None:\n",
    "        return\n",
    "    \n",
    "    \n",
    "    # Recur on the left subtree\n",
    "    inorderTraversal(root.left)\n",
    "    \n",
    "    # Visit the current node\n",
    "    print(root.data, end=\" \")\n",
    "    \n",
    "    # Recur on the right subtree\n",
    "    inorderTraversal(root.right)"
   ]
  },
  {
   "cell_type": "code",
   "execution_count": 2,
   "metadata": {},
   "outputs": [
    {
     "name": "stdout",
     "output_type": "stream",
     "text": [
      "4 2 5 1 3 "
     ]
    }
   ],
   "source": [
    "root = Node(1)\n",
    "root.left = Node(2)\n",
    "root.right = Node(3)\n",
    "root.left.left = Node(4)\n",
    "root.left.right = Node(5)\n",
    "inorderTraversal(root)"
   ]
  },
  {
   "cell_type": "markdown",
   "metadata": {},
   "source": [
    "## Preorder Traversal:\n",
    "\n",
    "Preorder traversal visits the node in the order: Root -> Left -> Right\n",
    "\n",
    "### Algorithm for Preorder Traversal:\n",
    "\n",
    "Preorder(tree)\n",
    "\n",
    "-Visit the root.\n",
    "\n",
    "-Traverse the left subtree, i.e., call Preorder(left->subtree)\n",
    "\n",
    "-Traverse the right subtree, i.e., call Preorder(right->subtree)"
   ]
  },
  {
   "cell_type": "code",
   "execution_count": 3,
   "metadata": {},
   "outputs": [],
   "source": [
    "class Node:\n",
    "    def __init__(self, data):\n",
    "        self.data = data\n",
    "        self.right = None\n",
    "        self.left = None\n",
    "\n",
    "def preorderTraversal(root:Node):\n",
    "    \n",
    "    #Base Case\n",
    "    if root is None:\n",
    "        return\n",
    "    \n",
    "    #Visit the cuurent node\n",
    "    print(root.data, end = ' ')\n",
    "    \n",
    "    #Recur on the left subtree\n",
    "    preorderTraversal(root.left)\n",
    "    \n",
    "    #Recur on the right subtree\n",
    "    preorderTraversal(root.right)"
   ]
  },
  {
   "cell_type": "code",
   "execution_count": 4,
   "metadata": {},
   "outputs": [
    {
     "name": "stdout",
     "output_type": "stream",
     "text": [
      "1 2 4 5 3 "
     ]
    }
   ],
   "source": [
    "root = Node(1)\n",
    "root.left = Node(2)\n",
    "root.right = Node(3)\n",
    "root.left.left = Node(4)\n",
    "root.left.right = Node(5)\n",
    "preorderTraversal(root)"
   ]
  },
  {
   "cell_type": "markdown",
   "metadata": {},
   "source": [
    "## Postorder Traversal:\n",
    "Postorder traversal visits the node in the order: Left -> Right -> Root\n",
    "\n",
    "### Algorithm for Postorder Traversal:\n",
    "\n",
    "Algorithm Postorder(tree)\n",
    "\n",
    "-Traverse the left subtree, i.e., call Postorder(left->subtree)\n",
    "\n",
    "-Traverse the right subtree, i.e., call Postorder(right->subtree)\n",
    "\n",
    "-Visit the root"
   ]
  },
  {
   "cell_type": "code",
   "execution_count": 6,
   "metadata": {},
   "outputs": [],
   "source": [
    "class Node:\n",
    "    def __init__(self, data):\n",
    "        self.data = data\n",
    "        self.right = None\n",
    "        self.left = None\n",
    "        \n",
    "def postorderTraversal(root:Node):\n",
    "    \n",
    "    #Base Case\n",
    "    if root is None:\n",
    "        return\n",
    "    \n",
    "    #Recur on the left subtree\n",
    "    postorderTraversal(root.left)\n",
    "    \n",
    "    #Recur on the right subtree\n",
    "    postorderTraversal(root.right)\n",
    "    \n",
    "    # Visit the current node\n",
    "    print(root.data, end=\" \")"
   ]
  },
  {
   "cell_type": "code",
   "execution_count": 7,
   "metadata": {},
   "outputs": [
    {
     "name": "stdout",
     "output_type": "stream",
     "text": [
      "4 5 2 3 1 "
     ]
    }
   ],
   "source": [
    "root = Node(1)\n",
    "root.left = Node(2)\n",
    "root.right = Node(3)\n",
    "root.left.left = Node(4)\n",
    "root.left.right = Node(5)\n",
    "postorderTraversal(root)"
   ]
  },
  {
   "cell_type": "markdown",
   "metadata": {},
   "source": [
    "Given the root of a binary tree and an integer targetSum, return true if the tree has a root-to-leaf path such that adding up all the values along the path equals targetSum.\n",
    "\n",
    "A leaf is a node with no children.\n",
    "\n",
    " \n",
    "\n",
    "Example 1:\n",
    "\n",
    "\n",
    "Input: root = [5,4,8,11,null,13,4,7,2,null,null,null,1], targetSum = 22\n",
    "\n",
    "Output: true\n",
    "\n",
    "Explanation: The root-to-leaf path with the target sum is shown.\n",
    "\n",
    "Example 2:\n",
    "\n",
    "\n",
    "Input: root = [1,2,3], targetSum = 5\n",
    "\n",
    "Output: false\n",
    "\n",
    "Explanation: There two root-to-leaf paths in the tree:\n",
    "\n",
    "(1 --> 2): The sum is 3.\n",
    "\n",
    "(1 --> 3): The sum is 4.\n",
    "\n",
    "There is no root-to-leaf path with sum = 5.\n",
    "\n",
    "Example 3:\n",
    "\n",
    "\n",
    "Input: root = [], targetSum = 0\n",
    "\n",
    "Output: false\n",
    "\n",
    "Explanation: Since the tree is empty, there are no root-to-leaf paths.\n",
    " \n",
    "\n",
    "Constraints:\n",
    "\n",
    "The number of nodes in the tree is in the range [0, 5000].\n",
    "\n",
    "-1000 <= Node.val <= 1000\n",
    "\n",
    "-1000 <= targetSum <= 1000"
   ]
  },
  {
   "cell_type": "code",
   "execution_count": null,
   "metadata": {},
   "outputs": [],
   "source": [
    "#Definition for a binary tree node.\n",
    "class TreeNode:\n",
    "    def __init__(self, val=0, left=None, right=None):\n",
    "        self.val = val\n",
    "        self.left = left\n",
    "        self.right = right\n",
    "\n",
    "class Solution:\n",
    "    def hasPathSum(self, root: Optional[TreeNode], targetSum: int) -> bool:\n",
    "        if not root:\n",
    "            return False\n",
    "        \n",
    "        if not root.left and not root.right:\n",
    "            return targetSum == root.val\n",
    "        \n",
    "        left_sum = self.hasPathSum(root.left, targetSum - root.val)\n",
    "        right_sum = self.hasPathSum(root.right, targetSum - root.val)\n",
    "        \n",
    "        return left_sum or right_sum"
   ]
  },
  {
   "cell_type": "markdown",
   "metadata": {},
   "source": [
    "Given the root of a binary tree and an integer targetSum, return all root-to-leaf paths where the sum of the node values in the path equals targetSum. Each path should be returned as a list of the node values, not node references.\n",
    "\n",
    "A root-to-leaf path is a path starting from the root and ending at any leaf node. A leaf is a node with no children.\n",
    "\n",
    " \n",
    "\n",
    "Example 1:\n",
    "\n",
    "\n",
    "Input: root = [5,4,8,11,null,13,4,7,2,null,null,5,1], targetSum = 22\n",
    "\n",
    "Output: [[5,4,11,2],[5,8,4,5]]\n",
    "\n",
    "Explanation: There are two paths whose sum equals targetSum:\n",
    "\n",
    "5 + 4 + 11 + 2 = 22\n",
    "\n",
    "5 + 8 + 4 + 5 = 22\n",
    "\n",
    "Example 2:\n",
    "\n",
    "\n",
    "Input: root = [1,2,3], targetSum = 5\n",
    "\n",
    "Output: []\n",
    "\n",
    "Example 3:\n",
    "\n",
    "Input: root = [1,2], targetSum = 0\n",
    "\n",
    "Output: []\n",
    " \n",
    "\n",
    "Constraints:\n",
    "\n",
    "\n",
    "The number of nodes in the tree is in the range [0, 5000].\n",
    "\n",
    "-1000 <= Node.val <= 1000\n",
    "\n",
    "-1000 <= targetSum <= 1000"
   ]
  },
  {
   "cell_type": "code",
   "execution_count": 8,
   "metadata": {},
   "outputs": [
    {
     "ename": "NameError",
     "evalue": "name 'Optional' is not defined",
     "output_type": "error",
     "traceback": [
      "\u001b[0;31m---------------------------------------------------------------------------\u001b[0m",
      "\u001b[0;31mNameError\u001b[0m                                 Traceback (most recent call last)",
      "Cell \u001b[0;32mIn[8], line 7\u001b[0m\n\u001b[1;32m      5\u001b[0m         \u001b[38;5;28mself\u001b[39m\u001b[38;5;241m.\u001b[39mleft \u001b[38;5;241m=\u001b[39m left\n\u001b[1;32m      6\u001b[0m         \u001b[38;5;28mself\u001b[39m\u001b[38;5;241m.\u001b[39mright \u001b[38;5;241m=\u001b[39m right\n\u001b[0;32m----> 7\u001b[0m \u001b[38;5;28;43;01mclass\u001b[39;49;00m\u001b[43m \u001b[49m\u001b[38;5;21;43;01mSolution\u001b[39;49;00m\u001b[43m:\u001b[49m\n\u001b[1;32m      8\u001b[0m \u001b[43m    \u001b[49m\u001b[38;5;28;43;01mdef\u001b[39;49;00m\u001b[43m \u001b[49m\u001b[38;5;21;43mpathSum\u001b[39;49m\u001b[43m(\u001b[49m\u001b[38;5;28;43mself\u001b[39;49m\u001b[43m,\u001b[49m\u001b[43m \u001b[49m\u001b[43mroot\u001b[49m\u001b[43m:\u001b[49m\u001b[43m \u001b[49m\u001b[43mOptional\u001b[49m\u001b[43m[\u001b[49m\u001b[43mTreeNode\u001b[49m\u001b[43m]\u001b[49m\u001b[43m,\u001b[49m\u001b[43m \u001b[49m\u001b[43mtargetSum\u001b[49m\u001b[43m:\u001b[49m\u001b[43m \u001b[49m\u001b[38;5;28;43mint\u001b[39;49m\u001b[43m)\u001b[49m\u001b[43m \u001b[49m\u001b[38;5;241;43m-\u001b[39;49m\u001b[38;5;241;43m>\u001b[39;49m\u001b[43m \u001b[49m\u001b[43mList\u001b[49m\u001b[43m[\u001b[49m\u001b[43mList\u001b[49m\u001b[43m[\u001b[49m\u001b[38;5;28;43mint\u001b[39;49m\u001b[43m]\u001b[49m\u001b[43m]\u001b[49m\u001b[43m:\u001b[49m\n\u001b[1;32m      9\u001b[0m \u001b[43m        \u001b[49m\u001b[43mres\u001b[49m\u001b[43m \u001b[49m\u001b[38;5;241;43m=\u001b[39;49m\u001b[43m \u001b[49m\u001b[43m[\u001b[49m\u001b[43m]\u001b[49m\n",
      "Cell \u001b[0;32mIn[8], line 8\u001b[0m, in \u001b[0;36mSolution\u001b[0;34m()\u001b[0m\n\u001b[1;32m      7\u001b[0m \u001b[38;5;28;01mclass\u001b[39;00m \u001b[38;5;21;01mSolution\u001b[39;00m:\n\u001b[0;32m----> 8\u001b[0m     \u001b[38;5;28;01mdef\u001b[39;00m \u001b[38;5;21mpathSum\u001b[39m(\u001b[38;5;28mself\u001b[39m, root: \u001b[43mOptional\u001b[49m[TreeNode], targetSum: \u001b[38;5;28mint\u001b[39m) \u001b[38;5;241m-\u001b[39m\u001b[38;5;241m>\u001b[39m List[List[\u001b[38;5;28mint\u001b[39m]]:\n\u001b[1;32m      9\u001b[0m         res \u001b[38;5;241m=\u001b[39m []\n\u001b[1;32m     10\u001b[0m         \u001b[38;5;28mself\u001b[39m\u001b[38;5;241m.\u001b[39mdfs(root, targetSum,[], res)\n",
      "\u001b[0;31mNameError\u001b[0m: name 'Optional' is not defined"
     ]
    }
   ],
   "source": [
    "# Definition for a binary tree node.\n",
    "class TreeNode:\n",
    "    def __init__(self, val=0, left=None, right=None):\n",
    "        self.val = val\n",
    "        self.left = left\n",
    "        self.right = right\n",
    "class Solution:\n",
    "    def pathSum(self, root: Optional[TreeNode], targetSum: int) -> List[List[int]]:\n",
    "        res = []\n",
    "        self.dfs(root, targetSum,[], res)\n",
    "        return res    \n",
    "    def dfs(self, root, targetSum, ls, res):\n",
    "        if root:\n",
    "            if not root.left and not root.right and targetSum == root.val:\n",
    "                ls.append(root.val)\n",
    "                res.append(ls)\n",
    "            self.dfs(root.left, targetSum - root.val, ls+[root.val], res)\n",
    "            self.dfs(root.right, targetSum-root.val, ls+[root.val], res)"
   ]
  },
  {
   "cell_type": "markdown",
   "metadata": {},
   "source": [
    "Given the root of a binary tree and an integer targetSum, return the number of paths where the sum of the values along the path equals targetSum.\n",
    "\n",
    "The path does not need to start or end at the root or a leaf, but it must go downwards (i.e., traveling only from parent nodes to child nodes).\n",
    "\n",
    " \n",
    "\n",
    "Example 1:\n",
    "\n",
    "\n",
    "Input: root = [10,5,-3,3,2,null,11,3,-2,null,1], targetSum = 8\n",
    "\n",
    "Output: 3\n",
    "\n",
    "Explanation: The paths that sum to 8 are shown.\n",
    "\n",
    "Example 2:\n",
    "\n",
    "Input: root = [5,4,8,11,null,13,4,7,2,null,null,5,1], targetSum = 22\n",
    "\n",
    "Output: 3\n",
    "\n",
    "\n",
    "\n",
    "Constraints:\n",
    "\n",
    "The number of nodes in the tree is in the range [0, 1000].\n",
    "\n",
    "-109 <= Node.val <= 109\n",
    "\n",
    "-1000 <= targetSum <= 1000"
   ]
  },
  {
   "cell_type": "code",
   "execution_count": null,
   "metadata": {},
   "outputs": [],
   "source": [
    "# Definition for a binary tree node.\n",
    "class TreeNode:\n",
    "    def __init__(self, val=0, left=None, right=None):\n",
    "        self.val = val\n",
    "        self.left = left\n",
    "        self.right = right\n",
    "class Solution:\n",
    "    def pathSum(self, root: Optional[TreeNode], targetSum: int) -> int:\n",
    "        self.result = 0\n",
    "        self.cache = {}\n",
    "\n",
    "        self.dfs(root, targetSum, 0)\n",
    "\n",
    "        return self.result\n",
    "    \n",
    "    def dfs(self, root, target, curr_sum):\n",
    "        if not root:\n",
    "            return None\n",
    "        \n",
    "        curr_sum = curr_sum+root.val\n",
    "\n",
    "        if curr_sum == target:\n",
    "            self.result += 1\n",
    "        \n",
    "        if(curr_sum-target) in self.cache:\n",
    "            self.result += self.cache[curr_sum-target]\n",
    "\n",
    "        if curr_sum in self.cache:\n",
    "            self.cache[curr_sum] += 1\n",
    "        else:\n",
    "            self.cache[curr_sum] = 1\n",
    "        \n",
    "        self.dfs(root.left, target,curr_sum)\n",
    "        self.dfs(root.right, target, curr_sum)\n",
    "\n",
    "        self.cache[curr_sum] -= 1\n",
    "        "
   ]
  }
 ],
 "metadata": {
  "kernelspec": {
   "display_name": "Python 3",
   "language": "python",
   "name": "python3"
  },
  "language_info": {
   "codemirror_mode": {
    "name": "ipython",
    "version": 3
   },
   "file_extension": ".py",
   "mimetype": "text/x-python",
   "name": "python",
   "nbconvert_exporter": "python",
   "pygments_lexer": "ipython3",
   "version": "3.11.0rc1"
  }
 },
 "nbformat": 4,
 "nbformat_minor": 2
}
